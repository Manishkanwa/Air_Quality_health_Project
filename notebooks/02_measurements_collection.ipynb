{
 "cells": [
  {
   "cell_type": "code",
   "execution_count": 1,
   "id": "9596b644",
   "metadata": {},
   "outputs": [],
   "source": [
    "import pandas as pd\n",
    "import requests as req\n",
    "import json\n",
    "import time,os\n",
    "from dotenv import load_dotenv\n",
    "from datetime import datetime\n",
    "load_dotenv()\n",
    "header = {\"X-API-Key\" : os.getenv('API_key')}"
   ]
  },
  {
   "cell_type": "code",
   "execution_count": 2,
   "id": "1fca0d07",
   "metadata": {},
   "outputs": [
    {
     "data": {
      "text/html": [
       "<div>\n",
       "<style scoped>\n",
       "    .dataframe tbody tr th:only-of-type {\n",
       "        vertical-align: middle;\n",
       "    }\n",
       "\n",
       "    .dataframe tbody tr th {\n",
       "        vertical-align: top;\n",
       "    }\n",
       "\n",
       "    .dataframe thead th {\n",
       "        text-align: right;\n",
       "    }\n",
       "</style>\n",
       "<table border=\"1\" class=\"dataframe\">\n",
       "  <thead>\n",
       "    <tr style=\"text-align: right;\">\n",
       "      <th></th>\n",
       "      <th>Unnamed: 0</th>\n",
       "      <th>Location_id</th>\n",
       "      <th>Sensor_id</th>\n",
       "      <th>Area</th>\n",
       "      <th>City</th>\n",
       "      <th>Sensor_name</th>\n",
       "      <th>Latitude</th>\n",
       "      <th>Longitude</th>\n",
       "    </tr>\n",
       "  </thead>\n",
       "  <tbody>\n",
       "    <tr>\n",
       "      <th>0</th>\n",
       "      <td>0</td>\n",
       "      <td>12</td>\n",
       "      <td>23</td>\n",
       "      <td>SPARTAN</td>\n",
       "      <td>Kanpur</td>\n",
       "      <td>PM2.5</td>\n",
       "      <td>26.519000</td>\n",
       "      <td>80.233000</td>\n",
       "    </tr>\n",
       "    <tr>\n",
       "      <th>1</th>\n",
       "      <td>1</td>\n",
       "      <td>13</td>\n",
       "      <td>13866</td>\n",
       "      <td>Delhi Technological University</td>\n",
       "      <td>Delhi</td>\n",
       "      <td>NO₂ mass</td>\n",
       "      <td>28.744000</td>\n",
       "      <td>77.120000</td>\n",
       "    </tr>\n",
       "    <tr>\n",
       "      <th>2</th>\n",
       "      <td>2</td>\n",
       "      <td>13</td>\n",
       "      <td>13864</td>\n",
       "      <td>Delhi Technological University</td>\n",
       "      <td>Delhi</td>\n",
       "      <td>PM2.5</td>\n",
       "      <td>28.744000</td>\n",
       "      <td>77.120000</td>\n",
       "    </tr>\n",
       "    <tr>\n",
       "      <th>3</th>\n",
       "      <td>3</td>\n",
       "      <td>17</td>\n",
       "      <td>392</td>\n",
       "      <td>R K Puram</td>\n",
       "      <td>Delhi</td>\n",
       "      <td>CO mass</td>\n",
       "      <td>28.563262</td>\n",
       "      <td>77.186937</td>\n",
       "    </tr>\n",
       "    <tr>\n",
       "      <th>4</th>\n",
       "      <td>4</td>\n",
       "      <td>17</td>\n",
       "      <td>36</td>\n",
       "      <td>R K Puram</td>\n",
       "      <td>Delhi</td>\n",
       "      <td>NO₂ mass</td>\n",
       "      <td>28.563262</td>\n",
       "      <td>77.186937</td>\n",
       "    </tr>\n",
       "  </tbody>\n",
       "</table>\n",
       "</div>"
      ],
      "text/plain": [
       "   Unnamed: 0  Location_id  Sensor_id                            Area    City  \\\n",
       "0           0           12         23                         SPARTAN  Kanpur   \n",
       "1           1           13      13866  Delhi Technological University   Delhi   \n",
       "2           2           13      13864  Delhi Technological University   Delhi   \n",
       "3           3           17        392                       R K Puram   Delhi   \n",
       "4           4           17         36                       R K Puram   Delhi   \n",
       "\n",
       "  Sensor_name   Latitude  Longitude  \n",
       "0       PM2.5  26.519000  80.233000  \n",
       "1    NO₂ mass  28.744000  77.120000  \n",
       "2       PM2.5  28.744000  77.120000  \n",
       "3     CO mass  28.563262  77.186937  \n",
       "4    NO₂ mass  28.563262  77.186937  "
      ]
     },
     "execution_count": 2,
     "metadata": {},
     "output_type": "execute_result"
    }
   ],
   "source": [
    "df = pd.read_csv('D:\\\\Air_Quality_health_Project\\\\data\\\\loaction_sensors.csv')\n",
    "df.head()"
   ]
  },
  {
   "cell_type": "code",
   "execution_count": null,
   "id": "41b66952",
   "metadata": {},
   "outputs": [],
   "source": [
    "sensors_in_range = []\n",
    "index = 0"
   ]
  },
  {
   "cell_type": "code",
   "execution_count": null,
   "id": "069cc8a3",
   "metadata": {},
   "outputs": [
    {
     "data": {
      "text/plain": [
       "530    12236029\n",
       "533    12236030\n",
       "691    12236360\n",
       "694    12236361\n",
       "710    12236375\n",
       "         ...   \n",
       "730    12442196\n",
       "851    12708245\n",
       "852    12708246\n",
       "885    12815121\n",
       "886    12815122\n",
       "Name: Sensor_id, Length: 99, dtype: int64"
      ]
     },
     "execution_count": 29,
     "metadata": {},
     "output_type": "execute_result"
    }
   ],
   "source": [
    "sensors_ids = df['Sensor_id'].sort_values()\n",
    "sensors_ids"
   ]
  },
  {
   "cell_type": "code",
   "execution_count": null,
   "id": "d96cbd9b",
   "metadata": {},
   "outputs": [
    {
     "name": "stdout",
     "output_type": "stream",
     "text": [
      "800 801 802 803 804 805 806 807 808 809 810 811 812 813 814 815 816 817 818 819 820 821 822 823 824 825 826 827 828 829 830 831 832 833 834 835 836 837 838 839 840 841 842 843 844 845 846 847 848 849 850 851 852 853 854 855 856 857 858 859 860 861 862 863 864 865 866 867 868 869 870 871 872 873 874 875 876 877 878 879 880 Sensor : 12242120 invalid error code : 500\n",
      "881 Sensor : 12242121 invalid error code : 500\n",
      "882 Sensor : 12242129 invalid error code : 500\n",
      "883 Sensor : 12242163 invalid error code : 500\n",
      "884 Sensor : 12242164 invalid error code : 500\n",
      "885 Sensor : 12243007 invalid error code : 500\n",
      "886 Sensor : 12243008 invalid error code : 500\n",
      "887 Sensor : 12243929 invalid error code : 500\n",
      "888 Sensor : 12243930 invalid error code : 500\n",
      "889 Sensor : 12243948 invalid error code : 500\n",
      "890 Sensor : 12243949 invalid error code : 500\n",
      "891 Sensor : 12252657 invalid error code : 500\n",
      "892 Sensor : 12252658 invalid error code : 500\n",
      "893 Sensor : 12442195 invalid error code : 500\n",
      "894 Sensor : 12442196 invalid error code : 500\n",
      "895 Sensor : 12708245 invalid error code : 500\n",
      "896 Sensor : 12708246 invalid error code : 500\n",
      "897 Sensor : 12815121 invalid error code : 500\n",
      "898 Sensor : 12815122 invalid error code : 500\n"
     ]
    }
   ],
   "source": [
    "for sensor in sensors_ids:\n",
    "    try:\n",
    "        print(f'{index} ', end = '')\n",
    "        r = req.get(url= f'https://api.openaq.org/v3/sensors/{sensor}?limit=100&page=1',headers=header)\n",
    "        if r.status_code == 200:\n",
    "            request = r.json()['results']\n",
    "            try:\n",
    "                year_start = int(request[0]['coverage']['datetimeFrom']['local'].split('-')[0])\n",
    "                year_end = int(request[0]['coverage']['datetimeTo']['local'].split('-')[0])\n",
    "                # print(year_start, year_end)\n",
    "                if year_start<=2020 and year_end>= 2021:\n",
    "                    print(f'Sensor : {sensor} Starting year : {year_start} Ending Year : {year_end}')\n",
    "                    sensors_in_range.append(sensor)\n",
    "            except:\n",
    "                print('Error on fetching data!!')\n",
    "        else :\n",
    "            print(f\"Sensor : {sensor} invalid error code : {r.status_code}\")\n",
    "        time.sleep(1)\n",
    "    except Exception as e:\n",
    "        print(\"error\" , e)        \n",
    "    index+=1"
   ]
  },
  {
   "cell_type": "code",
   "execution_count": 32,
   "id": "74135cf1",
   "metadata": {},
   "outputs": [
    {
     "data": {
      "text/plain": [
       "435"
      ]
     },
     "execution_count": 32,
     "metadata": {},
     "output_type": "execute_result"
    }
   ],
   "source": [
    "len(sensors_in_range)\n"
   ]
  },
  {
   "cell_type": "code",
   "execution_count": 6,
   "id": "980444a9",
   "metadata": {},
   "outputs": [],
   "source": [
    "sensors_in_range = pd.read_csv('seri.csv')\n",
    "sensors_in_range = sensors_in_range['0']"
   ]
  },
  {
   "cell_type": "code",
   "execution_count": 7,
   "id": "4610a483",
   "metadata": {},
   "outputs": [
    {
     "data": {
      "text/html": [
       "<div>\n",
       "<style scoped>\n",
       "    .dataframe tbody tr th:only-of-type {\n",
       "        vertical-align: middle;\n",
       "    }\n",
       "\n",
       "    .dataframe tbody tr th {\n",
       "        vertical-align: top;\n",
       "    }\n",
       "\n",
       "    .dataframe thead th {\n",
       "        text-align: right;\n",
       "    }\n",
       "</style>\n",
       "<table border=\"1\" class=\"dataframe\">\n",
       "  <thead>\n",
       "    <tr style=\"text-align: right;\">\n",
       "      <th></th>\n",
       "      <th>Unnamed: 0</th>\n",
       "      <th>Location_id</th>\n",
       "      <th>Sensor_id</th>\n",
       "      <th>Area</th>\n",
       "      <th>City</th>\n",
       "      <th>Sensor_name</th>\n",
       "      <th>Latitude</th>\n",
       "      <th>Longitude</th>\n",
       "    </tr>\n",
       "  </thead>\n",
       "  <tbody>\n",
       "    <tr>\n",
       "      <th>0</th>\n",
       "      <td>33</td>\n",
       "      <td>407</td>\n",
       "      <td>710</td>\n",
       "      <td>Zoo Park</td>\n",
       "      <td>Hyderabad</td>\n",
       "      <td>CO mass</td>\n",
       "      <td>17.349694</td>\n",
       "      <td>78.451437</td>\n",
       "    </tr>\n",
       "    <tr>\n",
       "      <th>1</th>\n",
       "      <td>34</td>\n",
       "      <td>407</td>\n",
       "      <td>712</td>\n",
       "      <td>Zoo Park</td>\n",
       "      <td>Hyderabad</td>\n",
       "      <td>NO₂ mass</td>\n",
       "      <td>17.349694</td>\n",
       "      <td>78.451437</td>\n",
       "    </tr>\n",
       "    <tr>\n",
       "      <th>2</th>\n",
       "      <td>35</td>\n",
       "      <td>407</td>\n",
       "      <td>715</td>\n",
       "      <td>Zoo Park</td>\n",
       "      <td>Hyderabad</td>\n",
       "      <td>PM10</td>\n",
       "      <td>17.349694</td>\n",
       "      <td>78.451437</td>\n",
       "    </tr>\n",
       "    <tr>\n",
       "      <th>3</th>\n",
       "      <td>38</td>\n",
       "      <td>407</td>\n",
       "      <td>714</td>\n",
       "      <td>Zoo Park</td>\n",
       "      <td>Hyderabad</td>\n",
       "      <td>PM2.5</td>\n",
       "      <td>17.349694</td>\n",
       "      <td>78.451437</td>\n",
       "    </tr>\n",
       "    <tr>\n",
       "      <th>4</th>\n",
       "      <td>39</td>\n",
       "      <td>407</td>\n",
       "      <td>713</td>\n",
       "      <td>Zoo Park</td>\n",
       "      <td>Hyderabad</td>\n",
       "      <td>SO₂ mass</td>\n",
       "      <td>17.349694</td>\n",
       "      <td>78.451437</td>\n",
       "    </tr>\n",
       "  </tbody>\n",
       "</table>\n",
       "</div>"
      ],
      "text/plain": [
       "   Unnamed: 0  Location_id  Sensor_id      Area       City Sensor_name  \\\n",
       "0          33          407        710  Zoo Park  Hyderabad     CO mass   \n",
       "1          34          407        712  Zoo Park  Hyderabad    NO₂ mass   \n",
       "2          35          407        715  Zoo Park  Hyderabad        PM10   \n",
       "3          38          407        714  Zoo Park  Hyderabad       PM2.5   \n",
       "4          39          407        713  Zoo Park  Hyderabad    SO₂ mass   \n",
       "\n",
       "    Latitude  Longitude  \n",
       "0  17.349694  78.451437  \n",
       "1  17.349694  78.451437  \n",
       "2  17.349694  78.451437  \n",
       "3  17.349694  78.451437  \n",
       "4  17.349694  78.451437  "
      ]
     },
     "execution_count": 7,
     "metadata": {},
     "output_type": "execute_result"
    }
   ],
   "source": [
    "df_inrange = (df[df['Sensor_id'].isin(sensors_in_range)]).reset_index(drop=True)\n",
    "df_inrange.head()"
   ]
  },
  {
   "cell_type": "code",
   "execution_count": 10,
   "id": "c1bb08e0",
   "metadata": {},
   "outputs": [
    {
     "name": "stdout",
     "output_type": "stream",
     "text": [
      "getting data for : 713\n",
      "getting data for : 714\n",
      "getting data for : 715\n"
     ]
    }
   ],
   "source": [
    "\n",
    "header = {\"X-API-Key\" : os.getenv(\"API_KEY\")}\n",
    "dataset = []\n",
    "for sensor in sensors_in_range[2:5]:\n",
    "    page = 1\n",
    "    print('getting data for :', sensor)\n",
    "    while True:\n",
    "        try:\n",
    "            request = req.get(f'https://api.openaq.org/v3/sensors/{sensor}/measurements/daily?limit=1000&page={page}&datetimeFrom=2024-01-01&datetimeTo=2025-01-01', headers =header)\n",
    "            raw = request.json()\n",
    "            data = raw['results']\n",
    "\n",
    "            if type(raw['meta']['found']) == int :\n",
    "                for param in data:\n",
    "                    if '2020' in param['period']['datetimeFrom']['local']:\n",
    "                        dataset.append([sensor, param['value'], param['period']['datetimeFrom']['local'].split(\"T\")[0], param['period']['datetimeTo']['local'].split('T')[0]])\n",
    "                    \n",
    "                break\n",
    "            else:\n",
    "                for param in data:\n",
    "                    if '2020' in param['period']['datetimeFrom']['local']:\n",
    "                        dataset.append([sensor, param['value'], param['period']['datetimeFrom']['local'].split(\"T\")[0], param['period']['datetimeTo']['local'].split('T')[0]])\n",
    "                page+=1\n",
    "                    \n",
    "        except Exception as e:\n",
    "            print('error in fetching from sensor ', sensor, 'Error : ', e)\n",
    "        \n",
    "        \n",
    "        \n",
    "dataset_df = pd.DataFrame(dataset, columns=['Sensor_id', 'Value', 'DateTimeFrom', 'DateTimeTo'])"
   ]
  },
  {
   "cell_type": "code",
   "execution_count": null,
   "id": "4a2f4d57",
   "metadata": {},
   "outputs": [],
   "source": [
    "dataset_df.to_csv((os.path.join\"test\", 'measure.csv'), mode=\"a\",index=False)"
   ]
  },
  {
   "cell_type": "code",
   "execution_count": null,
   "id": "91459ac8",
   "metadata": {},
   "outputs": [
    {
     "data": {
      "text/plain": [
       "Location_id     0\n",
       "Sensor_id       0\n",
       "Area            0\n",
       "City            0\n",
       "Sensor_name     0\n",
       "Latitude        0\n",
       "Longitude       0\n",
       "Value           0\n",
       "DateTimeFrom    0\n",
       "DateTimeTo      0\n",
       "dtype: int64"
      ]
     },
     "execution_count": 61,
     "metadata": {},
     "output_type": "execute_result"
    }
   ],
   "source": [
    "(df_inrange.head(2)).merge(dataset_df, on='Sensor_id')"
   ]
  },
  {
   "cell_type": "code",
   "execution_count": 7,
   "id": "de6c6e9e",
   "metadata": {},
   "outputs": [],
   "source": [
    "df = pd.read_csv('D:\\\\Air_Quality_health_Project\\\\data\\\\measurments.csv')"
   ]
  },
  {
   "cell_type": "code",
   "execution_count": 18,
   "id": "3a6cd784",
   "metadata": {},
   "outputs": [],
   "source": [
    "df = df[~(df['Sensor_id'] == 'Sensor_id')].reset_index(drop=True)"
   ]
  },
  {
   "cell_type": "code",
   "execution_count": 24,
   "id": "df36fe52",
   "metadata": {},
   "outputs": [],
   "source": [
    "df.to_csv('D:\\\\Air_Quality_health_Project\\\\data\\\\measurements.csv',index=False)"
   ]
  },
  {
   "cell_type": "code",
   "execution_count": null,
   "id": "4f342c12",
   "metadata": {},
   "outputs": [],
   "source": []
  }
 ],
 "metadata": {
  "kernelspec": {
   "display_name": "new_env",
   "language": "python",
   "name": "python3"
  },
  "language_info": {
   "codemirror_mode": {
    "name": "ipython",
    "version": 3
   },
   "file_extension": ".py",
   "mimetype": "text/x-python",
   "name": "python",
   "nbconvert_exporter": "python",
   "pygments_lexer": "ipython3",
   "version": "3.13.2"
  }
 },
 "nbformat": 4,
 "nbformat_minor": 5
}
